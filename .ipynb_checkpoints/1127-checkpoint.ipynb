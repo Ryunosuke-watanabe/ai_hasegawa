{
 "cells": [
  {
   "cell_type": "code",
   "execution_count": 1,
   "metadata": {},
   "outputs": [],
   "source": [
    "import numpy as np\n",
    "import matplotlib.pyplot as plt\n",
    "%matplotlib inline"
   ]
  },
  {
   "cell_type": "code",
   "execution_count": 2,
   "metadata": {},
   "outputs": [
    {
     "data": {
      "image/png": "[encoded data removed]",
      "text/plain": [
       "<Figure size 360x360 with 1 Axes>"
      ]
     },
     "metadata": {
      "needs_background": "light"
     },
     "output_type": "display_data"
    }
   ],
   "source": [
    "fig = plt.figure(figsize=(5, 5))\n",
    "ax = plt.gca()\n",
    "\n",
    "plt.plot([1, 1], [0, 1], color='r', linewidth=2)\n",
    "plt.plot([1, 2], [2, 2], color='r', linewidth=2)\n",
    "plt.plot([2, 2], [2, 1], color='r', linewidth=2)\n",
    "plt.plot([2, 3], [1, 1], color='r', linewidth=2)\n",
    "\n",
    "plt.text(0.5, 2.5, 'S0', size=14, ha='center')\n",
    "plt.text(1.5, 2.5, 'S1', size=14, ha='center')\n",
    "plt.text(2.5, 2.5, 'S2', size=14, ha='center')\n",
    "plt.text(0.5, 1.5, 'S3', size=14, ha='center')\n",
    "plt.text(1.5, 1.5, 'S4', size=14, ha='center')\n",
    "plt.text(2.5, 1.5, 'S5', size=14, ha='center')\n",
    "plt.text(0.5, 0.5, 'S6', size=14, ha='center')\n",
    "plt.text(1.5, 0.5, 'S7', size=14, ha='center')\n",
    "plt.text(2.5, 0.5, 'S8', size=14, ha='center')\n",
    "plt.text(0.5, 2.3, 'START', ha='center')\n",
    "plt.text(2.5, 0.3, 'GOAL', ha='center')\n",
    "\n",
    "ax.set_xlim(0, 3)\n",
    "ax.set_ylim(0, 3)\n",
    "plt.tick_params(axis='both', which='both', bottom='off', top='off',\n",
    "                labelbottom='off', right='off', left='off', labelleft='off')\n",
    "\t\t\t\t\n",
    "line, = ax.plot([0.5], [2.5], marker=\"o\", color='c', markersize=60)"
   ]
  },
  {
   "cell_type": "code",
   "execution_count": 3,
   "metadata": {},
   "outputs": [
    {
     "data": {
      "text/plain": [
       "array([[nan,  1.,  1., nan],\n",
       "       [nan,  1., nan,  1.],\n",
       "       [nan, nan,  1.,  1.],\n",
       "       [ 1.,  1.,  1., nan],\n",
       "       [nan, nan,  1.,  1.],\n",
       "       [ 1., nan, nan, nan],\n",
       "       [ 1., nan, nan, nan],\n",
       "       [ 1.,  1., nan, nan]])"
      ]
     },
     "execution_count": 3,
     "metadata": {},
     "output_type": "execute_result"
    }
   ],
   "source": [
    "# 初期の方策を決定するパラメータ\n",
    "# 行に移動できる芳香を入れる(↑,→,↓,←)\n",
    "theta_0 = np.array([\n",
    "    [np.nan, 1, 1, np.nan], # S0のとき\n",
    "    [np.nan, 1, np.nan, 1],\n",
    "    [np.nan, np.nan, 1, 1],\n",
    "    [1, 1, 1, np.nan],\n",
    "    [np.nan, np.nan, 1, 1],\n",
    "    [1, np.nan, np.nan, np.nan],\n",
    "    [1, np.nan, np.nan, np.nan],\n",
    "    [1, 1, np.nan, np.nan] #S7のとき\n",
    "])\n",
    "\n",
    "theta_0"
   ]
  },
  {
   "cell_type": "code",
   "execution_count": 4,
   "metadata": {},
   "outputs": [],
   "source": [
    "# 方策パラメータθを行動方策の確率に変換する関数\n",
    "def raito_convert_pi(theta):\n",
    "    \n",
    "    [m, n] = theta.shape\n",
    "    pi = np.zeros((m, n))\n",
    "    \n",
    "    for i in range(0, m):\n",
    "        pi[i, :] = theta[i, :] / np.nansum(theta[i, :])\n",
    "    pi = np.nan_to_num(pi)\n",
    "    \n",
    "    return pi        "
   ]
  },
  {
   "cell_type": "code",
   "execution_count": 5,
   "metadata": {},
   "outputs": [
    {
     "data": {
      "text/plain": [
       "array([[0.        , 0.5       , 0.5       , 0.        ],\n",
       "       [0.        , 0.5       , 0.        , 0.5       ],\n",
       "       [0.        , 0.        , 0.5       , 0.5       ],\n",
       "       [0.33333333, 0.33333333, 0.33333333, 0.        ],\n",
       "       [0.        , 0.        , 0.5       , 0.5       ],\n",
       "       [1.        , 0.        , 0.        , 0.        ],\n",
       "       [1.        , 0.        , 0.        , 0.        ],\n",
       "       [0.5       , 0.5       , 0.        , 0.        ]])"
      ]
     },
     "execution_count": 5,
     "metadata": {},
     "output_type": "execute_result"
    }
   ],
   "source": [
    "pi_0 = raito_convert_pi(theta_0)\n",
    "pi_0"
   ]
  },
  {
   "cell_type": "code",
   "execution_count": 6,
   "metadata": {},
   "outputs": [],
   "source": [
    "# 1ステップ移動した後の状態Sを求める関数\n",
    "def get_next_s(s, pi):\n",
    "    \n",
    "    direction = ['up', 'right', 'down', 'left']\n",
    "    \n",
    "    next_direction = np.random.choice(direction, p=pi[s, :])\n",
    "    \n",
    "    \n",
    "    next_s = s\n",
    "    if next_direction == 'up':\n",
    "        next_s = s - 3\n",
    "    elif next_direction == 'right':\n",
    "        next_s = s + 1\n",
    "    elif next_direction == 'down':\n",
    "        next_s = s + 3\n",
    "    elif next_direction == 'left':\n",
    "        next_s = s - 1\n",
    "        \n",
    "    return next_s"
   ]
  },
  {
   "cell_type": "code",
   "execution_count": 10,
   "metadata": {},
   "outputs": [],
   "source": [
    "# エージェントをゴールまで動かす関数\n",
    "def move(pi):\n",
    "    s = 0\n",
    "    \n",
    "    state_list = [0]\n",
    "    \n",
    "    while (1):\n",
    "        \n",
    "        next_s = get_next_s(s, pi)\n",
    "        state_list.append(next_s)\n",
    "        \n",
    "        if next_s == 8:\n",
    "            break\n",
    "        else:\n",
    "            s = next_s\n",
    "            \n",
    "        \n",
    "        \n",
    "    return state_list"
   ]
  },
  {
   "cell_type": "code",
   "execution_count": null,
   "metadata": {},
   "outputs": [],
   "source": [
    "state_list = move(pi_0)\n",
    "state_list"
   ]
  },
  {
   "cell_type": "code",
   "execution_count": null,
   "metadata": {},
   "outputs": [],
   "source": []
  }
 ],
 "metadata": {
  "kernelspec": {
   "display_name": "Python 3",
   "language": "python",
   "name": "python3"
  },
  "language_info": {
   "codemirror_mode": {
    "name": "ipython",
    "version": 3
   },
   "file_extension": ".py",
   "mimetype": "text/x-python",
   "name": "python",
   "nbconvert_exporter": "python",
   "pygments_lexer": "ipython3",
   "version": "3.8.2"
  }
 },
 "nbformat": 4,
 "nbformat_minor": 4
}
