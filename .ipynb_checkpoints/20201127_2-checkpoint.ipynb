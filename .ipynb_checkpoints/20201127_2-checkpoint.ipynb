{
  "nbformat": 4,
  "nbformat_minor": 0,
  "metadata": {
    "colab": {
      "name": "20201127_2",
      "provenance": [],
      "collapsed_sections": []
    },
    "kernelspec": {
      "name": "python3",
      "display_name": "Python 3"
    }
  },
  "cells": [
    {
      "cell_type": "markdown",
      "metadata": {
        "id": "cdKMj9g1T3nX"
      },
      "source": [
        "# ライブラリ"
      ]
    },
    {
      "cell_type": "code",
      "metadata": {
        "id": "iS70Hn_ETcWL"
      },
      "source": [
        "import numpy as np\n",
        "import matplotlib.pyplot as plt\n",
        "%matplotlib inline"
      ],
      "execution_count": 25,
      "outputs": []
    },
    {
      "cell_type": "markdown",
      "metadata": {
        "id": "v2TzPR8InqD0"
      },
      "source": [
        "# 迷路"
      ]
    },
    {
      "cell_type": "code",
      "metadata": {
        "colab": {
          "base_uri": "https://localhost:8080/",
          "height": 324
        },
        "id": "QtKdy6OKT-6R",
        "outputId": "0a8ea26f-1928-4cfa-d9c4-ad56a7b326d6"
      },
      "source": [
        "fig = plt.figure(figsize=(5, 5))\n",
        "ax = plt.gca()\n",
        "\n",
        "plt.plot([1, 1], [0, 1], color='r', linewidth=2)\n",
        "plt.plot([1, 2], [2, 2], color='r', linewidth=2)\n",
        "plt.plot([2, 2], [2, 1], color='r', linewidth=2)\n",
        "plt.plot([2, 3], [1, 1], color='r', linewidth=2)\n",
        "\n",
        "plt.text(0.5, 2.5, 'S0', size=14, ha='center')\n",
        "plt.text(1.5, 2.5, 'S1', size=14, ha='center')\n",
        "plt.text(2.5, 2.5, 'S2', size=14, ha='center')\n",
        "plt.text(0.5, 1.5, 'S3', size=14, ha='center')\n",
        "plt.text(1.5, 1.5, 'S4', size=14, ha='center')\n",
        "plt.text(2.5, 1.5, 'S5', size=14, ha='center')\n",
        "plt.text(0.5, 0.5, 'S6', size=14, ha='center')\n",
        "plt.text(1.5, 0.5, 'S7', size=14, ha='center')\n",
        "plt.text(2.5, 0.5, 'S8', size=14, ha='center')\n",
        "plt.text(0.5, 2.3, 'START', ha='center')\n",
        "plt.text(2.5, 0.3, 'GOAL', ha='center')\n",
        "\n",
        "ax.set_xlim(0, 3)\n",
        "ax.set_ylim(0, 3)\n",
        "plt.tick_params(axis='both', which='both', bottom='off', top='off',\n",
        "                labelbottom='off', right='off', left='off', labelleft='off')\n",
        "\t\t\t\t\n",
        "line, = ax.plot([0.5], [2.5], marker=\"o\", color='c', markersize=60)"
      ],
      "execution_count": 27,
      "outputs": [
        {
          "output_type": "display_data",
          "data": {
            "image/png": "[encoded data removed]",
            "text/plain": [
              "<Figure size 360x360 with 1 Axes>"
            ]
          },
          "metadata": {
            "tags": [],
            "needs_background": "light"
          }
        }
      ]
    },
    {
      "cell_type": "code",
      "metadata": {
        "colab": {
          "base_uri": "https://localhost:8080/"
        },
        "id": "LBM9B1ZuUbDS",
        "outputId": "ae3e2ee1-1169-4e29-c8cd-0257ec4be6a9"
      },
      "source": [
        "# 初期の方策（今回は移動できる方向）を決定するパラメータを定義する\n",
        "# 行に移動できる方向を入れる（↑，→，↓，←）\n",
        "# s8はゴールなので方策なし\n",
        "theta_0 = np.array([\n",
        "                    [np.nan, 1, 1, np.nan],  # s0\n",
        "                    [np.nan, 1, np.nan, 1],  # s1\n",
        "                    [np.nan, np.nan, 1, 1],  # s2\n",
        "                    [1, 1, 1, np.nan],  # s3\n",
        "                    [np.nan, np.nan, 1, 1],  # s4\n",
        "                    [1, np.nan, np.nan, np.nan],  # s5\n",
        "                    [1, np.nan, np.nan, np.nan],  # s6\n",
        "                    [1, 1, np.nan, np.nan],  # s7\n",
        "                    ])\n",
        "theta_0\n",
        "\n"
      ],
      "execution_count": 28,
      "outputs": [
        {
          "output_type": "execute_result",
          "data": {
            "text/plain": [
              "array([[nan,  1.,  1., nan],\n",
              "       [nan,  1., nan,  1.],\n",
              "       [nan, nan,  1.,  1.],\n",
              "       [ 1.,  1.,  1., nan],\n",
              "       [nan, nan,  1.,  1.],\n",
              "       [ 1., nan, nan, nan],\n",
              "       [ 1., nan, nan, nan],\n",
              "       [ 1.,  1., nan, nan]])"
            ]
          },
          "metadata": {
            "tags": []
          },
          "execution_count": 28
        }
      ]
    },
    {
      "cell_type": "code",
      "metadata": {
        "id": "cM4tumlvWyxY"
      },
      "source": [
        "# 方策パラメータθを行動方策の確率に変換する関数\n",
        "def ratio_convert_pi(theta):\n",
        "\n",
        "    # 行列サイズを取得\n",
        "    [m, n] = theta.shape\n",
        "    \n",
        "    # 取得したサイズで零行列を作成\n",
        "    pi = np.zeros((m, n))\n",
        "\n",
        "    for i in range(0, m):\n",
        "        # 割合計算\n",
        "        pi[i, :] = theta[i, :] / np.nansum(theta[i, :])\n",
        "\n",
        "    # nanを0に変換\n",
        "    pi = np.nan_to_num(pi)\n",
        "\n",
        "    return pi"
      ],
      "execution_count": 17,
      "outputs": []
    },
    {
      "cell_type": "code",
      "metadata": {
        "id": "FUK7jaIcoMn_"
      },
      "source": [
        "# 方策パラメータθを行動方策の確率に変換する関数\n",
        "def softmax_convert_pi(theta):\n",
        "\n",
        "    # ランダム性を制御する係数\n",
        "    beta = 1.0\n",
        "\n",
        "    # 行列サイズを取得\n",
        "    [m, n] = theta.shape\n",
        "    \n",
        "    # 取得したサイズで零行列を作成\n",
        "    pi = np.zeros((m, n))\n",
        "\n",
        "    # thetaをexp(theta)に変換する\n",
        "    exp_theta = np.exp(beta * theta)\n",
        "\n",
        "    for i in range(0, m):\n",
        "        # softmax\n",
        "        pi[i, :] = exp_theta[i, :] / np.nansum(exp_theta[i, :])\n",
        "\n",
        "    # nanを0に変換\n",
        "    pi = np.nan_to_num(pi)\n",
        "\n",
        "    return pi"
      ],
      "execution_count": 18,
      "outputs": []
    },
    {
      "cell_type": "code",
      "metadata": {
        "colab": {
          "base_uri": "https://localhost:8080/"
        },
        "id": "uuI28M0qY4XW",
        "outputId": "ff662c46-3794-40f8-85c9-5c8dc8d767a2"
      },
      "source": [
        "pi_0 = softmax_convert_pi(theta_0)\n",
        "pi_0"
      ],
      "execution_count": 19,
      "outputs": [
        {
          "output_type": "execute_result",
          "data": {
            "text/plain": [
              "array([[0.        , 0.5       , 0.5       , 0.        ],\n",
              "       [0.        , 0.5       , 0.        , 0.5       ],\n",
              "       [0.        , 0.        , 0.5       , 0.5       ],\n",
              "       [0.33333333, 0.33333333, 0.33333333, 0.        ],\n",
              "       [0.        , 0.        , 0.5       , 0.5       ],\n",
              "       [1.        , 0.        , 0.        , 0.        ],\n",
              "       [1.        , 0.        , 0.        , 0.        ],\n",
              "       [0.5       , 0.5       , 0.        , 0.        ]])"
            ]
          },
          "metadata": {
            "tags": []
          },
          "execution_count": 19
        }
      ]
    },
    {
      "cell_type": "code",
      "metadata": {
        "id": "ijKVAsr5ZelM"
      },
      "source": [
        "# 1ステップ移動した後の状態sを求める関数\n",
        "def get_next_s(s, pi):\n",
        "\n",
        "    # 移動する方向を入れる配列\n",
        "    direction = ['up', 'right', 'down', 'left']\n",
        "\n",
        "    # pi, 上記の配列を使ってランダムに移動方向を選択\n",
        "    next_direction = np.random.choice(direction, p=pi[s, :])\n",
        "\n",
        "    next = s\n",
        "    action = -1\n",
        "    # 移動する方向が決まったら，その方向とsの値から次のnextを計算する\n",
        "    if next_direction == 'up':\n",
        "        action = 0\n",
        "        next = s - 3\n",
        "    elif next_direction == 'right':\n",
        "        action = 1\n",
        "        next = s + 1\n",
        "    elif next_direction == 'down':\n",
        "        action = 2\n",
        "        next = s + 3\n",
        "    elif next_direction == 'left':\n",
        "        action = 3\n",
        "        next = s - 1\n",
        "\n",
        "    return [next, action]"
      ],
      "execution_count": 20,
      "outputs": []
    },
    {
      "cell_type": "code",
      "metadata": {
        "id": "SfaUAHGAeEqA"
      },
      "source": [
        "# エージェントをゴールするまで動かす関数\n",
        "def move(pi):\n",
        "    # エージェントの初期位置\n",
        "    s = 0\n",
        "    # エージェントの履歴を格納する配列\n",
        "    state_list = [[0, np.nan]]\n",
        "\n",
        "    # ゴールするまでループ\n",
        "    while (1):\n",
        "        # 次の移動先を現在地と確率から求める\n",
        "        [next, action] = get_next_s(s, pi)\n",
        "\n",
        "        # 現在の状態の行動を格納\n",
        "        state_list[-1][1] = action\n",
        "\n",
        "        # 次の状態を格納(次の行動は決まっていない)\n",
        "        state_list.append([next, np.nan])\n",
        "\n",
        "        # 終了条件\n",
        "        if next == 8:\n",
        "            break\n",
        "        else:\n",
        "            s = next\n",
        "\n",
        "    return state_list"
      ],
      "execution_count": 32,
      "outputs": []
    },
    {
      "cell_type": "code",
      "metadata": {
        "colab": {
          "base_uri": "https://localhost:8080/"
        },
        "id": "Tn1xKU1NfjPj",
        "outputId": "485e5b59-1bfe-478d-b81f-7dfe6b56a006"
      },
      "source": [
        "state_list = move(pi_0)\n",
        "print(state_list)\n",
        "print(len(state_list)-1)"
      ],
      "execution_count": 35,
      "outputs": [
        {
          "output_type": "stream",
          "text": [
            "[[0, 1], [1, 1], [2, 2], [5, 0], [2, 2], [5, 0], [2, 3], [1, 1], [2, 3], [1, 3], [0, 2], [3, 2], [6, 0], [3, 0], [0, 2], [3, 2], [6, 0], [3, 1], [4, 2], [7, 0], [4, 2], [7, 0], [4, 3], [3, 0], [0, 1], [1, 1], [2, 3], [1, 1], [2, 3], [1, 3], [0, 1], [1, 3], [0, 2], [3, 0], [0, 1], [1, 1], [2, 3], [1, 1], [2, 2], [5, 0], [2, 3], [1, 3], [0, 2], [3, 2], [6, 0], [3, 0], [0, 1], [1, 1], [2, 3], [1, 3], [0, 2], [3, 0], [0, 2], [3, 2], [6, 0], [3, 0], [0, 2], [3, 0], [0, 2], [3, 0], [0, 2], [3, 0], [0, 2], [3, 2], [6, 0], [3, 0], [0, 2], [3, 0], [0, 2], [3, 1], [4, 3], [3, 2], [6, 0], [3, 1], [4, 3], [3, 1], [4, 2], [7, 0], [4, 2], [7, 0], [4, 2], [7, 1], [8, nan]]\n",
            "82\n"
          ],
          "name": "stdout"
        }
      ]
    },
    {
      "cell_type": "code",
      "metadata": {
        "id": "2T55mXUrvgrw"
      },
      "source": [
        "# thetaを更新する関数\n",
        "def update_theta(theta, pi, state_list):\n",
        "    # 学習率\n",
        "    eta = 0.1\n",
        "\n",
        "    # 一度の試行（エピソード）のゴールまでの総ステップ数\n",
        "    T = len(state_list) - 1\n",
        "\n",
        "    # thetaの行列サイズを取得\n",
        "    [m, n] = theta.shape\n",
        "\n",
        "    delta_theta = theta.copy()\n",
        "\n",
        "    # Δthetaを求める\n",
        "    for i in range(0, m):\n",
        "        for j in range(0, n):\n",
        "            if not(np.isnan(theta[i,j])):\n",
        "                \n",
        "                # エージェントの行動履歴の配列から状態iのものを取り出す\n",
        "                sa_i = [sa for sa in state_list if sa[0] == i]\n",
        "\n",
        "                # sa_i = []\n",
        "                # for sa in state_list:\n",
        "                #     if sa[0] == i:\n",
        "                #         sa_i.append(sa)\n",
        "\n",
        "                # エージェントが状態iで行動jをしたものを取り出す\n",
        "                sa_ij = [sa for sa in state_list if sa == [i, j]]\n",
        "\n",
        "                # 状態iで行動した総回数\n",
        "                N_i = len(sa_i)\n",
        "                # 状態iで行動jをとった回数\n",
        "                N_ij = len(sa_ij)\n",
        "\n",
        "                delta_theta[i, j] = (N_ij - pi[i, j] * N_i) / T\n",
        "\n",
        "    return theta + eta * delta_theta\n",
        "\n"
      ],
      "execution_count": 34,
      "outputs": []
    },
    {
      "cell_type": "code",
      "metadata": {
        "colab": {
          "base_uri": "https://localhost:8080/"
        },
        "id": "c7Xcxvyd1cgn",
        "outputId": "ae7464d7-3b13-4845-f2c4-f7b944ee3f4f"
      },
      "source": [
        "n_theta = update_theta(theta_0, pi_0, state_list)\n",
        "n_theta\n",
        "\n",
        "pi = softmax_convert_pi(n_theta)\n",
        "pi"
      ],
      "execution_count": 37,
      "outputs": [
        {
          "output_type": "execute_result",
          "data": {
            "text/plain": [
              "array([[0.        , 0.49786587, 0.50213413, 0.        ],\n",
              "       [0.        , 0.50060976, 0.        , 0.49939024],\n",
              "       [0.        , 0.        , 0.49878049, 0.50121951],\n",
              "       [0.33496116, 0.33211391, 0.33292493, 0.        ],\n",
              "       [0.        , 0.        , 0.50060976, 0.49939024],\n",
              "       [1.        , 0.        , 0.        , 0.        ],\n",
              "       [1.        , 0.        , 0.        , 0.        ],\n",
              "       [0.50091463, 0.49908537, 0.        , 0.        ]])"
            ]
          },
          "metadata": {
            "tags": []
          },
          "execution_count": 37
        }
      ]
    },
    {
      "cell_type": "code",
      "metadata": {
        "id": "Fc7KQo6w2JFl"
      },
      "source": [
        "# ループ終了判定に使う\n",
        "stop = 10**-4\n",
        "\n",
        "theta = theta_0\n",
        "pi = pi_0\n",
        "\n",
        "# ループ判定\n",
        "is_continue = True\n",
        "while is_continue:\n",
        "    state_list = move(pi)\n",
        "    n_theta = update_theta(theta, pi, state_list)\n",
        "    n_pi = softmax_convert_pi(n_theta)\n",
        "\n",
        "    d_pi = np.sum(np.abs(n_pi - pi))\n",
        "    print('piの変化量', d_pi)\n",
        "    print('ステップ数', len(state_list)-1)\n",
        "\n",
        "    if d_pi < stop:\n",
        "        is_continue = False\n",
        "    else:\n",
        "        theta = n_theta\n",
        "        pi = n_pi"
      ],
      "execution_count": null,
      "outputs": []
    },
    {
      "cell_type": "code",
      "metadata": {
        "colab": {
          "base_uri": "https://localhost:8080/"
        },
        "id": "McJIYmpz4j3S",
        "outputId": "4b7d562c-9dec-4225-c729-3b4d90385d80"
      },
      "source": [
        "np.set_printoptions(precision=3, suppress=True)\n",
        "print(pi)"
      ],
      "execution_count": 43,
      "outputs": [
        {
          "output_type": "stream",
          "text": [
            "[[0.    0.011 0.989 0.   ]\n",
            " [0.    0.291 0.    0.709]\n",
            " [0.    0.    0.443 0.557]\n",
            " [0.01  0.978 0.011 0.   ]\n",
            " [0.    0.    0.981 0.019]\n",
            " [1.    0.    0.    0.   ]\n",
            " [1.    0.    0.    0.   ]\n",
            " [0.014 0.986 0.    0.   ]]\n"
          ],
          "name": "stdout"
        }
      ]
    }
  ]
}